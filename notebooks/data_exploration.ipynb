{
 "cells": [
  {
   "cell_type": "code",
   "execution_count": 74,
   "id": "4344ba73",
   "metadata": {},
   "outputs": [],
   "source": [
    "import pandas as pd\n",
    "import numpy as np\n",
    "import matplotlib.pyplot as plt\n",
    "import seaborn as sns"
   ]
  },
  {
   "cell_type": "code",
   "execution_count": 37,
   "id": "3bf89502",
   "metadata": {},
   "outputs": [
    {
     "name": "stderr",
     "output_type": "stream",
     "text": [
      "C:\\Users\\harsh\\AppData\\Local\\Temp\\ipykernel_10588\\284825200.py:1: ParserWarning: Falling back to the 'python' engine because the 'c' engine does not support regex separators (separators > 1 char and different from '\\s+' are interpreted as regex); you can avoid this warning by specifying engine='python'.\n",
      "  dat_movies = pd.read_csv(\"../data/ml-1m/movies.dat\",sep='::',encoding='latin-1',header=None,names=[\"MovieID\",\"Title\",\"Genres\"])\n",
      "C:\\Users\\harsh\\AppData\\Local\\Temp\\ipykernel_10588\\284825200.py:2: ParserWarning: Falling back to the 'python' engine because the 'c' engine does not support regex separators (separators > 1 char and different from '\\s+' are interpreted as regex); you can avoid this warning by specifying engine='python'.\n",
      "  dat_ratings = pd.read_csv(\"../data/ml-1m/ratings.dat\",sep='::',encoding='latin-1',header=None,names=['UserID',\"MovieID\",\"Rating\",\"Timestamp\"])\n",
      "C:\\Users\\harsh\\AppData\\Local\\Temp\\ipykernel_10588\\284825200.py:3: ParserWarning: Falling back to the 'python' engine because the 'c' engine does not support regex separators (separators > 1 char and different from '\\s+' are interpreted as regex); you can avoid this warning by specifying engine='python'.\n",
      "  dat_users = pd.read_csv(\"../data/ml-1m/users.dat\",sep='::',encoding='latin-1',header=None,names=[\"UserID\",\"Gender\",\"Age\",\"Occupation\",\"Zip Code\"])\n"
     ]
    }
   ],
   "source": [
    "dat_movies = pd.read_csv(\"../data/ml-1m/movies.dat\",sep='::',encoding='latin-1',header=None,names=[\"MovieID\",\"Title\",\"Genres\"])\n",
    "dat_ratings = pd.read_csv(\"../data/ml-1m/ratings.dat\",sep='::',encoding='latin-1',header=None,names=['UserID',\"MovieID\",\"Rating\",\"Timestamp\"])\n",
    "dat_users = pd.read_csv(\"../data/ml-1m/users.dat\",sep='::',encoding='latin-1',header=None,names=[\"UserID\",\"Gender\",\"Age\",\"Occupation\",\"Zip Code\"])"
   ]
  },
  {
   "cell_type": "code",
   "execution_count": null,
   "id": "5e381ebe",
   "metadata": {},
   "outputs": [
    {
     "name": "stdout",
     "output_type": "stream",
     "text": [
      "         UserID  MovieID  Rating  Timestamp\n",
      "0             1     1193       5  978300760\n",
      "1             1      661       3  978302109\n",
      "2             1      914       3  978301968\n",
      "3             1     3408       4  978300275\n",
      "4             1     2355       5  978824291\n",
      "...         ...      ...     ...        ...\n",
      "1000204    6040     1091       1  956716541\n",
      "1000205    6040     1094       5  956704887\n",
      "1000206    6040      562       5  956704746\n",
      "1000207    6040     1096       4  956715648\n",
      "1000208    6040     1097       4  956715569\n",
      "\n",
      "[1000209 rows x 4 columns]\n",
      "<class 'pandas.core.frame.DataFrame'>\n",
      "RangeIndex: 1000209 entries, 0 to 1000208\n",
      "Data columns (total 4 columns):\n",
      " #   Column     Non-Null Count    Dtype         \n",
      "---  ------     --------------    -----         \n",
      " 0   UserID     1000209 non-null  int64         \n",
      " 1   MovieID    1000209 non-null  int64         \n",
      " 2   Rating     1000209 non-null  int64         \n",
      " 3   Timestamp  1000209 non-null  datetime64[ns]\n",
      "dtypes: datetime64[ns](1), int64(3)\n",
      "memory usage: 30.5 MB\n"
     ]
    }
   ],
   "source": [
    "print(dat_ratings)\n",
    "#converting time from epoch/unix to standard datetime format\n",
    "dat_ratings['Timestamp'] = pd.to_datetime(dat_ratings['Timestamp'],unit='s')\n",
    "dat_ratings.info()"
   ]
  },
  {
   "cell_type": "code",
   "execution_count": null,
   "id": "66145c66",
   "metadata": {},
   "outputs": [
    {
     "name": "stdout",
     "output_type": "stream",
     "text": [
      "   UserID Gender  Age  Occupation Zip Code\n",
      "0       1      F    1          10    48067\n",
      "1       2      M   56          16    70072\n",
      "2       3      M   25          15    55117\n",
      "3       4      M   45           7    02460\n",
      "4       5      M   25          20    55455\n",
      "<class 'pandas.core.frame.DataFrame'>\n",
      "RangeIndex: 6040 entries, 0 to 6039\n",
      "Data columns (total 5 columns):\n",
      " #   Column      Non-Null Count  Dtype \n",
      "---  ------      --------------  ----- \n",
      " 0   UserID      6040 non-null   int64 \n",
      " 1   Gender      6040 non-null   object\n",
      " 2   Age         6040 non-null   int64 \n",
      " 3   Occupation  6040 non-null   int64 \n",
      " 4   Zip Code    6040 non-null   object\n",
      "dtypes: int64(3), object(2)\n",
      "memory usage: 236.1+ KB\n"
     ]
    }
   ],
   "source": [
    "print(dat_users.head())\n",
    "dat_users.info()\n",
    "#no null values found"
   ]
  },
  {
   "cell_type": "code",
   "execution_count": null,
   "id": "deb6308b",
   "metadata": {},
   "outputs": [
    {
     "name": "stdout",
     "output_type": "stream",
     "text": [
      "   MovieID                               Title                        Genres\n",
      "0        1                    Toy Story (1995)   Animation|Children's|Comedy\n",
      "1        2                      Jumanji (1995)  Adventure|Children's|Fantasy\n",
      "2        3             Grumpier Old Men (1995)                Comedy|Romance\n",
      "3        4            Waiting to Exhale (1995)                  Comedy|Drama\n",
      "4        5  Father of the Bride Part II (1995)                        Comedy\n",
      "<class 'pandas.core.frame.DataFrame'>\n",
      "RangeIndex: 3883 entries, 0 to 3882\n",
      "Data columns (total 3 columns):\n",
      " #   Column   Non-Null Count  Dtype \n",
      "---  ------   --------------  ----- \n",
      " 0   MovieID  3883 non-null   int64 \n",
      " 1   Title    3883 non-null   object\n",
      " 2   Genres   3883 non-null   object\n",
      "dtypes: int64(1), object(2)\n",
      "memory usage: 91.1+ KB\n"
     ]
    }
   ],
   "source": [
    "print(dat_movies.head())\n",
    "dat_movies.info()\n",
    "#no null values"
   ]
  },
  {
   "cell_type": "code",
   "execution_count": 62,
   "id": "d55a52d7",
   "metadata": {},
   "outputs": [
    {
     "data": {
      "text/html": [
       "<div>\n",
       "<style scoped>\n",
       "    .dataframe tbody tr th:only-of-type {\n",
       "        vertical-align: middle;\n",
       "    }\n",
       "\n",
       "    .dataframe tbody tr th {\n",
       "        vertical-align: top;\n",
       "    }\n",
       "\n",
       "    .dataframe thead th {\n",
       "        text-align: right;\n",
       "    }\n",
       "</style>\n",
       "<table border=\"1\" class=\"dataframe\">\n",
       "  <thead>\n",
       "    <tr style=\"text-align: right;\">\n",
       "      <th></th>\n",
       "      <th>UserID</th>\n",
       "      <th>MovieID</th>\n",
       "      <th>Rating</th>\n",
       "      <th>Timestamp</th>\n",
       "      <th>Title</th>\n",
       "      <th>Genres</th>\n",
       "      <th>Gender</th>\n",
       "      <th>Age</th>\n",
       "      <th>Occupation</th>\n",
       "      <th>Zip Code</th>\n",
       "    </tr>\n",
       "  </thead>\n",
       "  <tbody>\n",
       "    <tr>\n",
       "      <th>0</th>\n",
       "      <td>1</td>\n",
       "      <td>1193</td>\n",
       "      <td>5</td>\n",
       "      <td>2000-12-31 22:12:40</td>\n",
       "      <td>One Flew Over the Cuckoo's Nest (1975)</td>\n",
       "      <td>Drama</td>\n",
       "      <td>F</td>\n",
       "      <td>1</td>\n",
       "      <td>10</td>\n",
       "      <td>48067</td>\n",
       "    </tr>\n",
       "    <tr>\n",
       "      <th>1</th>\n",
       "      <td>1</td>\n",
       "      <td>661</td>\n",
       "      <td>3</td>\n",
       "      <td>2000-12-31 22:35:09</td>\n",
       "      <td>James and the Giant Peach (1996)</td>\n",
       "      <td>Animation|Children's|Musical</td>\n",
       "      <td>F</td>\n",
       "      <td>1</td>\n",
       "      <td>10</td>\n",
       "      <td>48067</td>\n",
       "    </tr>\n",
       "    <tr>\n",
       "      <th>2</th>\n",
       "      <td>1</td>\n",
       "      <td>914</td>\n",
       "      <td>3</td>\n",
       "      <td>2000-12-31 22:32:48</td>\n",
       "      <td>My Fair Lady (1964)</td>\n",
       "      <td>Musical|Romance</td>\n",
       "      <td>F</td>\n",
       "      <td>1</td>\n",
       "      <td>10</td>\n",
       "      <td>48067</td>\n",
       "    </tr>\n",
       "    <tr>\n",
       "      <th>3</th>\n",
       "      <td>1</td>\n",
       "      <td>3408</td>\n",
       "      <td>4</td>\n",
       "      <td>2000-12-31 22:04:35</td>\n",
       "      <td>Erin Brockovich (2000)</td>\n",
       "      <td>Drama</td>\n",
       "      <td>F</td>\n",
       "      <td>1</td>\n",
       "      <td>10</td>\n",
       "      <td>48067</td>\n",
       "    </tr>\n",
       "    <tr>\n",
       "      <th>4</th>\n",
       "      <td>1</td>\n",
       "      <td>2355</td>\n",
       "      <td>5</td>\n",
       "      <td>2001-01-06 23:38:11</td>\n",
       "      <td>Bug's Life, A (1998)</td>\n",
       "      <td>Animation|Children's|Comedy</td>\n",
       "      <td>F</td>\n",
       "      <td>1</td>\n",
       "      <td>10</td>\n",
       "      <td>48067</td>\n",
       "    </tr>\n",
       "  </tbody>\n",
       "</table>\n",
       "</div>"
      ],
      "text/plain": [
       "   UserID  MovieID  Rating           Timestamp  \\\n",
       "0       1     1193       5 2000-12-31 22:12:40   \n",
       "1       1      661       3 2000-12-31 22:35:09   \n",
       "2       1      914       3 2000-12-31 22:32:48   \n",
       "3       1     3408       4 2000-12-31 22:04:35   \n",
       "4       1     2355       5 2001-01-06 23:38:11   \n",
       "\n",
       "                                    Title                        Genres  \\\n",
       "0  One Flew Over the Cuckoo's Nest (1975)                         Drama   \n",
       "1        James and the Giant Peach (1996)  Animation|Children's|Musical   \n",
       "2                     My Fair Lady (1964)               Musical|Romance   \n",
       "3                  Erin Brockovich (2000)                         Drama   \n",
       "4                    Bug's Life, A (1998)   Animation|Children's|Comedy   \n",
       "\n",
       "  Gender  Age  Occupation Zip Code  \n",
       "0      F    1          10    48067  \n",
       "1      F    1          10    48067  \n",
       "2      F    1          10    48067  \n",
       "3      F    1          10    48067  \n",
       "4      F    1          10    48067  "
      ]
     },
     "execution_count": 62,
     "metadata": {},
     "output_type": "execute_result"
    }
   ],
   "source": [
    "#Merging the dataframes\n",
    "dat_merged = dat_ratings.merge(dat_movies,on='MovieID', how=\"inner\")\n",
    "dat_merged = dat_merged.merge(dat_users,on='UserID')\n",
    "dat_merged.head()\n"
   ]
  },
  {
   "cell_type": "code",
   "execution_count": 49,
   "id": "27825945",
   "metadata": {},
   "outputs": [
    {
     "name": "stdout",
     "output_type": "stream",
     "text": [
      "Original ratings count: 1000209\n",
      "Cleaned ratings count: 1000209\n"
     ]
    }
   ],
   "source": [
    "print(f\"Original ratings count: {len(dat_ratings)}\")\n",
    "print(f\"Cleaned ratings count: {len(dat_merged)}\")"
   ]
  },
  {
   "cell_type": "code",
   "execution_count": 48,
   "id": "60b6e162",
   "metadata": {},
   "outputs": [
    {
     "name": "stdout",
     "output_type": "stream",
     "text": [
      "<class 'pandas.core.frame.DataFrame'>\n",
      "RangeIndex: 1000209 entries, 0 to 1000208\n",
      "Data columns (total 10 columns):\n",
      " #   Column      Non-Null Count    Dtype         \n",
      "---  ------      --------------    -----         \n",
      " 0   UserID      1000209 non-null  int64         \n",
      " 1   MovieID     1000209 non-null  int64         \n",
      " 2   Rating      1000209 non-null  int64         \n",
      " 3   Timestamp   1000209 non-null  datetime64[ns]\n",
      " 4   Title       1000209 non-null  object        \n",
      " 5   Genres      1000209 non-null  object        \n",
      " 6   Gender      1000209 non-null  object        \n",
      " 7   Age         1000209 non-null  int64         \n",
      " 8   Occupation  1000209 non-null  int64         \n",
      " 9   Zip Code    1000209 non-null  object        \n",
      "dtypes: datetime64[ns](1), int64(5), object(4)\n",
      "memory usage: 76.3+ MB\n"
     ]
    }
   ],
   "source": [
    "dat_merged.info()"
   ]
  },
  {
   "cell_type": "code",
   "execution_count": null,
   "id": "2701585e",
   "metadata": {},
   "outputs": [
    {
     "name": "stdout",
     "output_type": "stream",
     "text": [
      "Empty DataFrame\n",
      "Columns: [UserID, Gender, Age, Occupation, Zip Code, MovieID, Title, Genres, Rating, Timestamp]\n",
      "Index: []\n"
     ]
    }
   ],
   "source": [
    "print(dat_merged[dat_merged.duplicated])\n",
    "#no duplicates found"
   ]
  },
  {
   "cell_type": "markdown",
   "id": "7850b909",
   "metadata": {},
   "source": [
    "# EDA"
   ]
  },
  {
   "cell_type": "code",
   "execution_count": 58,
   "id": "c686463e",
   "metadata": {},
   "outputs": [
    {
     "name": "stdout",
     "output_type": "stream",
     "text": [
      "(1000209, 10)\n",
      "<class 'pandas.core.frame.DataFrame'>\n",
      "RangeIndex: 1000209 entries, 0 to 1000208\n",
      "Data columns (total 10 columns):\n",
      " #   Column      Non-Null Count    Dtype         \n",
      "---  ------      --------------    -----         \n",
      " 0   UserID      1000209 non-null  int64         \n",
      " 1   MovieID     1000209 non-null  int64         \n",
      " 2   Rating      1000209 non-null  int64         \n",
      " 3   Timestamp   1000209 non-null  datetime64[ns]\n",
      " 4   Title       1000209 non-null  object        \n",
      " 5   Genres      1000209 non-null  object        \n",
      " 6   Gender      1000209 non-null  object        \n",
      " 7   Age         1000209 non-null  int64         \n",
      " 8   Occupation  1000209 non-null  int64         \n",
      " 9   Zip Code    1000209 non-null  object        \n",
      "dtypes: datetime64[ns](1), int64(5), object(4)\n",
      "memory usage: 76.3+ MB\n",
      "None\n"
     ]
    }
   ],
   "source": [
    "#no. of rows and columns of the merged dataset\n",
    "print(dat_merged.shape)\n",
    "print(dat_merged.info())"
   ]
  },
  {
   "cell_type": "code",
   "execution_count": 131,
   "id": "002005c9",
   "metadata": {},
   "outputs": [
    {
     "data": {
      "text/plain": [
       "<Axes: xlabel='Rating'>"
      ]
     },
     "execution_count": 131,
     "metadata": {},
     "output_type": "execute_result"
    },
    {
     "data": {
      "image/png": "[encoded data removed]",
      "text/plain": [
       "<Figure size 1000x1000 with 1 Axes>"
      ]
     },
     "metadata": {},
     "output_type": "display_data"
    }
   ],
   "source": [
    "#rating distribution\n",
    "dat_ratings['Rating'].describe().round(3)\n",
    "rating_data = dat_ratings['Rating'].value_counts().sort_index()\n",
    "rating_data.columns = ['Count','Rating']\n",
    "plt.figure(figsize=(10,10))\n",
    "rating_data.plot(kind='bar')"
   ]
  },
  {
   "cell_type": "code",
   "execution_count": 140,
   "id": "2b693e9c",
   "metadata": {},
   "outputs": [
    {
     "data": {
      "text/plain": [
       "<Axes: title={'center': 'Top 10 Most Popular Movies'}, xlabel='Title'>"
      ]
     },
     "execution_count": 140,
     "metadata": {},
     "output_type": "execute_result"
    },
    {
     "data": {
      "image/png": "[encoded data removed]",
      "text/plain": [
       "<Figure size 640x480 with 1 Axes>"
      ]
     },
     "metadata": {},
     "output_type": "display_data"
    }
   ],
   "source": [
    "#most popular movies\n",
    "plt.title(\"Top 10 Most Popular Movies\")\n",
    "popular_movies = dat_merged['Title'].value_counts()\n",
    "popular_movies.head(10).plot(kind='bar')"
   ]
  },
  {
   "cell_type": "code",
   "execution_count": null,
   "id": "b5476f5a",
   "metadata": {},
   "outputs": [],
   "source": []
  }
 ],
 "metadata": {
  "kernelspec": {
   "display_name": "Python 3",
   "language": "python",
   "name": "python3"
  },
  "language_info": {
   "codemirror_mode": {
    "name": "ipython",
    "version": 3
   },
   "file_extension": ".py",
   "mimetype": "text/x-python",
   "name": "python",
   "nbconvert_exporter": "python",
   "pygments_lexer": "ipython3",
   "version": "3.11.9"
  }
 },
 "nbformat": 4,
 "nbformat_minor": 5
}
